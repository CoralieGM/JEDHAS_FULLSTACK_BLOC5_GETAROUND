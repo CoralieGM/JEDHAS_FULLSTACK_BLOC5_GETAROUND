{
 "cells": [
  {
   "cell_type": "code",
   "execution_count": 31,
   "metadata": {},
   "outputs": [
    {
     "name": "stdout",
     "output_type": "stream",
     "text": [
      "{'prediction': 120.26792329632977}\n"
     ]
    }
   ],
   "source": [
    "import requests\n",
    "\n",
    "response = requests.post(\"https://getaround-api-cg.herokuapp.com/Prediction\", json={\n",
    "  \"model_key\": \"Mercedes\",\n",
    "  \"mileage\": 181672,\n",
    "  \"engine_power\": 105,\n",
    "  \"fuel\": \"diesel\",\n",
    "  \"paint_color\": \"white\",\n",
    "  \"car_type\": \"hatchback\",\n",
    "  \"private_parking_available\": True,\n",
    "  \"has_gps\": True,\n",
    "  \"has_air_conditioning\": False,\n",
    "  \"automatic_car\": False,\n",
    "  \"has_getaround_connect\": True,\n",
    "  \"has_speed_regulator\": False,\n",
    "  \"winter_tires\": True\n",
    "})\n",
    "\n",
    "print(response.json())"
   ]
  }
 ],
 "metadata": {
  "kernelspec": {
   "display_name": "Python 3.9.12 ('base')",
   "language": "python",
   "name": "python3"
  },
  "language_info": {
   "codemirror_mode": {
    "name": "ipython",
    "version": 3
   },
   "file_extension": ".py",
   "mimetype": "text/x-python",
   "name": "python",
   "nbconvert_exporter": "python",
   "pygments_lexer": "ipython3",
   "version": "3.9.12"
  },
  "orig_nbformat": 4,
  "vscode": {
   "interpreter": {
    "hash": "054e9c2bbbc0db3b4ffd70da8c0e9d28e164eef70f6a33bf80b11fccdb77c167"
   }
  }
 },
 "nbformat": 4,
 "nbformat_minor": 2
}
